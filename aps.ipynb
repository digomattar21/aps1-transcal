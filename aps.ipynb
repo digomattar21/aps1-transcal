{
 "cells": [
  {
   "cell_type": "code",
   "execution_count": 87,
   "metadata": {},
   "outputs": [],
   "source": [
    "import matplotlib.pyplot as plt\n",
    "from math import *"
   ]
  },
  {
   "cell_type": "markdown",
   "metadata": {},
   "source": [
    "## Questao 1"
   ]
  },
  {
   "cell_type": "code",
   "execution_count": 88,
   "metadata": {},
   "outputs": [],
   "source": [
    "t_superficie = 373 #100 convertido pra kelvin\n",
    "kal = 240 #condutividade termica do aluminio w/km\n",
    "t_ambiente = 298 #25 convertido pra kelvin\n",
    "diametro = 24*1e-3 #diametro aleta\n",
    "raio = diametro/2 #raio aleta\n",
    "comprimento_aleta = 150*1e-3 #comprimento aleta\n",
    "cc = 20 #coficiente de convecao (W/m*k)"
   ]
  },
  {
   "cell_type": "code",
   "execution_count": 89,
   "metadata": {},
   "outputs": [],
   "source": [
    "#funcoes principais\n",
    "\n",
    "def calc_heat_rate(m,l,m2,cc):\n",
    "   return ((sinh(m*l) + (cc/m/kal)*cosh(m*l))/(cosh(m*l) + (cc/m/kal)*sinh(m*l)))*m2\n",
    "\n",
    "def calc_dist_temp(m, l, x):\n",
    "  return  (cosh(m*(l-x)) + (cc/(m*kal))*sinh(m*(l-x)))/(cosh(m*l) + (cc/(m*kal))*sinh(m*l))\n",
    "\n",
    "def calc_temp_extremidade(t_ambiente, t_superficie, temp_distribuida):\n",
    "    return temp_distribuida*(t_superficie - t_ambiente) + t_ambiente\n",
    "    \n",
    "def calc_effectiveness(q_a, cc, Ab, dif_temp):\n",
    "    return q_a / (cc*Ab*dif_temp)\n",
    "\n",
    "def calc_efficiency(q_a, cc, As, dif_temp):\n",
    "    return q_a / (cc*As*dif_temp)\n",
    "\n",
    "\n",
    "#funcoes auxiliares\n",
    "def calc_m2(dif_temp, cc, p, kal, a):\n",
    "    return dif_temp*sqrt(cc*p*kal*a)\n",
    "\n",
    "def calc_m1(cc, p, kal, a):\n",
    "    return sqrt(cc*p/kal/a)\n",
    "\n",
    "def calc_area(r):\n",
    "    return pi*r**2\n",
    "\n",
    "def calc_perimeter(r):\n",
    "    return 2*pi*r\n",
    "\n"
   ]
  },
  {
   "cell_type": "code",
   "execution_count": 90,
   "metadata": {},
   "outputs": [
    {
     "name": "stdout",
     "output_type": "stream",
     "text": [
      "Taxa de transferencia de calor: 15.89 W\n",
      "Taxa de transferencia de calor para aleta infinita: 30.35 W\n"
     ]
    }
   ],
   "source": [
    "area = calc_area(raio)\n",
    "dif_temp = t_superficie-t_ambiente\n",
    "perimetro = calc_perimeter(raio)\n",
    "\n",
    "\n",
    "mq1 = calc_m1(cc, perimetro, kal, area)\n",
    "MQ1 = calc_m2(dif_temp, cc, perimetro, kal, area)\n",
    "\n",
    "taxa_transf_calor = calc_heat_rate(mq1, comprimento_aleta, MQ1, cc)\n",
    "\n",
    "\n",
    "print(f\"Taxa de transferencia de calor: {round(taxa_transf_calor, 2)} W\")\n",
    "\n",
    "print(f\"Taxa de transferencia de calor para aleta infinita: {round(MQ1,2)} W\")\n",
    "\n"
   ]
  },
  {
   "cell_type": "code",
   "execution_count": 91,
   "metadata": {},
   "outputs": [
    {
     "name": "stdout",
     "output_type": "stream",
     "text": [
      "Temperatura na extremidade da aleta: 361.91 K\n"
     ]
    }
   ],
   "source": [
    "distrib_temp = calc_dist_temp(mq1, comprimento_aleta, comprimento_aleta)\n",
    "t_extrem = calc_temp_extremidade(t_ambiente, t_superficie, distrib_temp)\n",
    "\n",
    "print(f\"Temperatura na extremidade da aleta: {round(t_extrem, 2)} K\")"
   ]
  },
  {
   "cell_type": "code",
   "execution_count": 92,
   "metadata": {},
   "outputs": [
    {
     "name": "stdout",
     "output_type": "stream",
     "text": [
      "Efetividade: 23.42\n",
      "Eficiencia: 23.42\n"
     ]
    }
   ],
   "source": [
    "efetividade1 = calc_effectiveness(taxa_transf_calor, cc, area, dif_temp)\n",
    "efeciencia1 = calc_efficiency(taxa_transf_calor, cc, area, dif_temp)\n",
    "\n",
    "print(f\"Efetividade: {round(efetividade1, 2)}\")\n",
    "print(f\"Eficiencia: {round(efeciencia1, 2)}\")\n"
   ]
  },
  {
   "cell_type": "markdown",
   "metadata": {},
   "source": [
    "## Questao 2"
   ]
  }
 ],
 "metadata": {
  "interpreter": {
   "hash": "916dbcbb3f70747c44a77c7bcd40155683ae19c65e1c03b4aa3499c5328201f1"
  },
  "kernelspec": {
   "display_name": "Python 3.8.10 64-bit",
   "language": "python",
   "name": "python3"
  },
  "language_info": {
   "codemirror_mode": {
    "name": "ipython",
    "version": 3
   },
   "file_extension": ".py",
   "mimetype": "text/x-python",
   "name": "python",
   "nbconvert_exporter": "python",
   "pygments_lexer": "ipython3",
   "version": "3.10.4"
  },
  "orig_nbformat": 4
 },
 "nbformat": 4,
 "nbformat_minor": 2
}
